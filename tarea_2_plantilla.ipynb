{
 "cells": [
  {
   "cell_type": "markdown",
   "metadata": {},
   "source": [
    "# **Tarea Nº 2**"
   ]
  },
  {
   "cell_type": "markdown",
   "metadata": {},
   "source": [
    "Curso:          Fundamentos de Programación en Python para Macroeconomía y Finanzas     \n",
    "Profesor:       Victor Fuentes Campos     "
   ]
  },
  {
   "cell_type": "markdown",
   "metadata": {},
   "source": [
    "- Fecha y hora de entrega: Sábado 6 de enero, 11:59pm\n",
    "- Agregue los nombres de las personas con las que discutió esta tarea: ____ Armando Paredes ______\n",
    "- Envíe su tarea haciendo el `push` de su código a su repo en GitHub Classroom: "
   ]
  },
  {
   "cell_type": "markdown",
   "metadata": {},
   "source": [
    "## Filtering rows"
   ]
  },
  {
   "cell_type": "markdown",
   "metadata": {},
   "source": [
    "1. Import the `flights.csv` dataset. Find all flights that:\n",
    "\n",
    "    a. Had an arrival delay of three or more hours\n",
    "    b. Flew to Houston (IAH or HOU)\n",
    "    c. Were operated by United, American, or Southwest\n",
    "    d. Departed in spring (March, April, and June)\n",
    "    e. Arrived more than two hours late, but didn’t leave late\n",
    "    f. Were delayed by at least an hour, but made up over 30 minutes in flight 7. Departed between midnight and 5am (inclusive)"
   ]
  },
  {
   "cell_type": "code",
   "execution_count": null,
   "metadata": {},
   "outputs": [],
   "source": [
    "# Solution"
   ]
  },
  {
   "cell_type": "markdown",
   "metadata": {},
   "source": [
    "2. How many flights have a missing dep_time? What other variables are missing? What might these rows represent?"
   ]
  },
  {
   "cell_type": "code",
   "execution_count": 2,
   "metadata": {},
   "outputs": [
    {
     "data": {
      "text/plain": [
       "year                 0\n",
       "month                0\n",
       "day                  0\n",
       "dep_time          8255\n",
       "sched_dep_time       0\n",
       "dep_delay         8255\n",
       "arr_time          8713\n",
       "sched_arr_time       0\n",
       "arr_delay         9430\n",
       "carrier              0\n",
       "flight               0\n",
       "tailnum           2512\n",
       "origin               0\n",
       "dest                 0\n",
       "air_time          9430\n",
       "distance             0\n",
       "hour                 0\n",
       "minute               0\n",
       "time_hour            0\n",
       "dtype: int64"
      ]
     },
     "execution_count": 2,
     "metadata": {},
     "output_type": "execute_result"
    }
   ],
   "source": [
    "# Solution\n",
    "#import pandas as pd\n",
    "#import pyreadstat\n",
    "#flights = pd.read_csv(r\"flights.csv\", index_col=0)\n",
    "#display(flights, type(flights))\n",
    "\n",
    "flights.isnull().sum()\n",
    "## while missing values might indicate incomplete records or data collections issues\n",
    "## It's possible that cancelled or delayed flights might have taken part on the missing values issue\n"
   ]
  },
  {
   "cell_type": "markdown",
   "metadata": {},
   "source": [
    "3. What happens to observations **with missing values in `arr_time`** when you filter by **`arr_time == 1800`**? Why? (Hint: compare `2000 == 1800`, `1800 == 1800`, and `NA == 1800`)."
   ]
  },
  {
   "cell_type": "code",
   "execution_count": null,
   "metadata": {},
   "outputs": [],
   "source": [
    "# Solution"
   ]
  },
  {
   "cell_type": "markdown",
   "metadata": {},
   "source": [
    "4. What does `False & None` evaluate to? Why?"
   ]
  },
  {
   "cell_type": "code",
   "execution_count": null,
   "metadata": {},
   "outputs": [],
   "source": [
    "# Solution"
   ]
  },
  {
   "cell_type": "markdown",
   "metadata": {},
   "source": [
    "## Select columns"
   ]
  },
  {
   "cell_type": "markdown",
   "metadata": {},
   "source": [
    "5. Brainstorm as many distinct ways as possible to select `dep_time`, `dep_delay`, `arr_time`, and `arr_delay` from `flights`."
   ]
  },
  {
   "cell_type": "code",
   "execution_count": null,
   "metadata": {},
   "outputs": [],
   "source": [
    "# Solution"
   ]
  },
  {
   "cell_type": "markdown",
   "metadata": {},
   "source": [
    "## Sort columns"
   ]
  },
  {
   "cell_type": "markdown",
   "metadata": {},
   "source": [
    "6. Sort flights to find the most delayed flights by arrival time. Hint: End your code with head(1) to only print that row."
   ]
  },
  {
   "cell_type": "markdown",
   "metadata": {},
   "source": []
  },
  {
   "cell_type": "code",
   "execution_count": 10,
   "metadata": {},
   "outputs": [
    {
     "data": {
      "text/html": [
       "<div>\n",
       "<style scoped>\n",
       "    .dataframe tbody tr th:only-of-type {\n",
       "        vertical-align: middle;\n",
       "    }\n",
       "\n",
       "    .dataframe tbody tr th {\n",
       "        vertical-align: top;\n",
       "    }\n",
       "\n",
       "    .dataframe thead th {\n",
       "        text-align: right;\n",
       "    }\n",
       "</style>\n",
       "<table border=\"1\" class=\"dataframe\">\n",
       "  <thead>\n",
       "    <tr style=\"text-align: right;\">\n",
       "      <th></th>\n",
       "      <th>year</th>\n",
       "      <th>month</th>\n",
       "      <th>day</th>\n",
       "      <th>dep_time</th>\n",
       "      <th>sched_dep_time</th>\n",
       "      <th>dep_delay</th>\n",
       "      <th>arr_time</th>\n",
       "      <th>sched_arr_time</th>\n",
       "      <th>arr_delay</th>\n",
       "      <th>carrier</th>\n",
       "      <th>flight</th>\n",
       "      <th>tailnum</th>\n",
       "      <th>origin</th>\n",
       "      <th>dest</th>\n",
       "      <th>air_time</th>\n",
       "      <th>distance</th>\n",
       "      <th>hour</th>\n",
       "      <th>minute</th>\n",
       "      <th>time_hour</th>\n",
       "    </tr>\n",
       "  </thead>\n",
       "  <tbody>\n",
       "    <tr>\n",
       "      <th>244604</th>\n",
       "      <td>2013</td>\n",
       "      <td>6</td>\n",
       "      <td>24</td>\n",
       "      <td>2246.0</td>\n",
       "      <td>1859</td>\n",
       "      <td>227.0</td>\n",
       "      <td>2400.0</td>\n",
       "      <td>2026</td>\n",
       "      <td>214.0</td>\n",
       "      <td>EV</td>\n",
       "      <td>4131</td>\n",
       "      <td>N11150</td>\n",
       "      <td>EWR</td>\n",
       "      <td>RIC</td>\n",
       "      <td>48.0</td>\n",
       "      <td>277</td>\n",
       "      <td>18</td>\n",
       "      <td>59</td>\n",
       "      <td>2013-06-24 18:00:00</td>\n",
       "    </tr>\n",
       "  </tbody>\n",
       "</table>\n",
       "</div>"
      ],
      "text/plain": [
       "        year  month  day  dep_time  sched_dep_time  dep_delay  arr_time  \\\n",
       "244604  2013      6   24    2246.0            1859      227.0    2400.0   \n",
       "\n",
       "        sched_arr_time  arr_delay carrier  flight tailnum origin dest  \\\n",
       "244604            2026      214.0      EV    4131  N11150    EWR  RIC   \n",
       "\n",
       "        air_time  distance  hour  minute            time_hour  \n",
       "244604      48.0       277    18      59  2013-06-24 18:00:00  "
      ]
     },
     "execution_count": 10,
     "metadata": {},
     "output_type": "execute_result"
    }
   ],
   "source": [
    "# Solution\n",
    "flights.sort_values(by='arr_time', ascending=False).head(1)\n"
   ]
  },
  {
   "cell_type": "markdown",
   "metadata": {},
   "source": [
    "7. Find the top 5 flights that left earliest relative to their scheduled departure. Only show the tail number, date and number of minutes early they departed at."
   ]
  },
  {
   "cell_type": "code",
   "execution_count": null,
   "metadata": {},
   "outputs": [],
   "source": [
    "# Solution"
   ]
  },
  {
   "cell_type": "code",
   "execution_count": null,
   "metadata": {},
   "outputs": [],
   "source": [
    "8. How could you sort all missing values to the start? "
   ]
  },
  {
   "cell_type": "code",
   "execution_count": 11,
   "metadata": {},
   "outputs": [
    {
     "data": {
      "text/html": [
       "<div>\n",
       "<style scoped>\n",
       "    .dataframe tbody tr th:only-of-type {\n",
       "        vertical-align: middle;\n",
       "    }\n",
       "\n",
       "    .dataframe tbody tr th {\n",
       "        vertical-align: top;\n",
       "    }\n",
       "\n",
       "    .dataframe thead th {\n",
       "        text-align: right;\n",
       "    }\n",
       "</style>\n",
       "<table border=\"1\" class=\"dataframe\">\n",
       "  <thead>\n",
       "    <tr style=\"text-align: right;\">\n",
       "      <th></th>\n",
       "      <th>year</th>\n",
       "      <th>month</th>\n",
       "      <th>day</th>\n",
       "      <th>dep_time</th>\n",
       "      <th>sched_dep_time</th>\n",
       "      <th>dep_delay</th>\n",
       "      <th>arr_time</th>\n",
       "      <th>sched_arr_time</th>\n",
       "      <th>arr_delay</th>\n",
       "      <th>carrier</th>\n",
       "      <th>flight</th>\n",
       "      <th>tailnum</th>\n",
       "      <th>origin</th>\n",
       "      <th>dest</th>\n",
       "      <th>air_time</th>\n",
       "      <th>distance</th>\n",
       "      <th>hour</th>\n",
       "      <th>minute</th>\n",
       "      <th>time_hour</th>\n",
       "    </tr>\n",
       "  </thead>\n",
       "  <tbody>\n",
       "    <tr>\n",
       "      <th>755</th>\n",
       "      <td>2013</td>\n",
       "      <td>1</td>\n",
       "      <td>1</td>\n",
       "      <td>2016.0</td>\n",
       "      <td>1930</td>\n",
       "      <td>46.0</td>\n",
       "      <td>NaN</td>\n",
       "      <td>2220</td>\n",
       "      <td>NaN</td>\n",
       "      <td>EV</td>\n",
       "      <td>4204</td>\n",
       "      <td>N14168</td>\n",
       "      <td>EWR</td>\n",
       "      <td>OKC</td>\n",
       "      <td>NaN</td>\n",
       "      <td>1325</td>\n",
       "      <td>19</td>\n",
       "      <td>30</td>\n",
       "      <td>2013-01-01 19:00:00</td>\n",
       "    </tr>\n",
       "    <tr>\n",
       "      <th>839</th>\n",
       "      <td>2013</td>\n",
       "      <td>1</td>\n",
       "      <td>1</td>\n",
       "      <td>NaN</td>\n",
       "      <td>1630</td>\n",
       "      <td>NaN</td>\n",
       "      <td>NaN</td>\n",
       "      <td>1815</td>\n",
       "      <td>NaN</td>\n",
       "      <td>EV</td>\n",
       "      <td>4308</td>\n",
       "      <td>N18120</td>\n",
       "      <td>EWR</td>\n",
       "      <td>RDU</td>\n",
       "      <td>NaN</td>\n",
       "      <td>416</td>\n",
       "      <td>16</td>\n",
       "      <td>30</td>\n",
       "      <td>2013-01-01 16:00:00</td>\n",
       "    </tr>\n",
       "    <tr>\n",
       "      <th>840</th>\n",
       "      <td>2013</td>\n",
       "      <td>1</td>\n",
       "      <td>1</td>\n",
       "      <td>NaN</td>\n",
       "      <td>1935</td>\n",
       "      <td>NaN</td>\n",
       "      <td>NaN</td>\n",
       "      <td>2240</td>\n",
       "      <td>NaN</td>\n",
       "      <td>AA</td>\n",
       "      <td>791</td>\n",
       "      <td>N3EHAA</td>\n",
       "      <td>LGA</td>\n",
       "      <td>DFW</td>\n",
       "      <td>NaN</td>\n",
       "      <td>1389</td>\n",
       "      <td>19</td>\n",
       "      <td>35</td>\n",
       "      <td>2013-01-01 19:00:00</td>\n",
       "    </tr>\n",
       "    <tr>\n",
       "      <th>841</th>\n",
       "      <td>2013</td>\n",
       "      <td>1</td>\n",
       "      <td>1</td>\n",
       "      <td>NaN</td>\n",
       "      <td>1500</td>\n",
       "      <td>NaN</td>\n",
       "      <td>NaN</td>\n",
       "      <td>1825</td>\n",
       "      <td>NaN</td>\n",
       "      <td>AA</td>\n",
       "      <td>1925</td>\n",
       "      <td>N3EVAA</td>\n",
       "      <td>LGA</td>\n",
       "      <td>MIA</td>\n",
       "      <td>NaN</td>\n",
       "      <td>1096</td>\n",
       "      <td>15</td>\n",
       "      <td>0</td>\n",
       "      <td>2013-01-01 15:00:00</td>\n",
       "    </tr>\n",
       "    <tr>\n",
       "      <th>842</th>\n",
       "      <td>2013</td>\n",
       "      <td>1</td>\n",
       "      <td>1</td>\n",
       "      <td>NaN</td>\n",
       "      <td>600</td>\n",
       "      <td>NaN</td>\n",
       "      <td>NaN</td>\n",
       "      <td>901</td>\n",
       "      <td>NaN</td>\n",
       "      <td>B6</td>\n",
       "      <td>125</td>\n",
       "      <td>N618JB</td>\n",
       "      <td>JFK</td>\n",
       "      <td>FLL</td>\n",
       "      <td>NaN</td>\n",
       "      <td>1069</td>\n",
       "      <td>6</td>\n",
       "      <td>0</td>\n",
       "      <td>2013-01-01 06:00:00</td>\n",
       "    </tr>\n",
       "    <tr>\n",
       "      <th>...</th>\n",
       "      <td>...</td>\n",
       "      <td>...</td>\n",
       "      <td>...</td>\n",
       "      <td>...</td>\n",
       "      <td>...</td>\n",
       "      <td>...</td>\n",
       "      <td>...</td>\n",
       "      <td>...</td>\n",
       "      <td>...</td>\n",
       "      <td>...</td>\n",
       "      <td>...</td>\n",
       "      <td>...</td>\n",
       "      <td>...</td>\n",
       "      <td>...</td>\n",
       "      <td>...</td>\n",
       "      <td>...</td>\n",
       "      <td>...</td>\n",
       "      <td>...</td>\n",
       "      <td>...</td>\n",
       "    </tr>\n",
       "    <tr>\n",
       "      <th>64888</th>\n",
       "      <td>2013</td>\n",
       "      <td>11</td>\n",
       "      <td>10</td>\n",
       "      <td>2027.0</td>\n",
       "      <td>2015</td>\n",
       "      <td>12.0</td>\n",
       "      <td>2400.0</td>\n",
       "      <td>2354</td>\n",
       "      <td>6.0</td>\n",
       "      <td>DL</td>\n",
       "      <td>427</td>\n",
       "      <td>N197DN</td>\n",
       "      <td>JFK</td>\n",
       "      <td>LAX</td>\n",
       "      <td>329.0</td>\n",
       "      <td>2475</td>\n",
       "      <td>20</td>\n",
       "      <td>15</td>\n",
       "      <td>2013-11-10 20:00:00</td>\n",
       "    </tr>\n",
       "    <tr>\n",
       "      <th>120641</th>\n",
       "      <td>2013</td>\n",
       "      <td>2</td>\n",
       "      <td>11</td>\n",
       "      <td>2220.0</td>\n",
       "      <td>2000</td>\n",
       "      <td>140.0</td>\n",
       "      <td>2400.0</td>\n",
       "      <td>2137</td>\n",
       "      <td>143.0</td>\n",
       "      <td>EV</td>\n",
       "      <td>4106</td>\n",
       "      <td>N13914</td>\n",
       "      <td>EWR</td>\n",
       "      <td>GSO</td>\n",
       "      <td>79.0</td>\n",
       "      <td>445</td>\n",
       "      <td>20</td>\n",
       "      <td>0</td>\n",
       "      <td>2013-02-11 20:00:00</td>\n",
       "    </tr>\n",
       "    <tr>\n",
       "      <th>299005</th>\n",
       "      <td>2013</td>\n",
       "      <td>8</td>\n",
       "      <td>20</td>\n",
       "      <td>2302.0</td>\n",
       "      <td>2305</td>\n",
       "      <td>-3.0</td>\n",
       "      <td>2400.0</td>\n",
       "      <td>13</td>\n",
       "      <td>-13.0</td>\n",
       "      <td>B6</td>\n",
       "      <td>718</td>\n",
       "      <td>N348JB</td>\n",
       "      <td>JFK</td>\n",
       "      <td>BOS</td>\n",
       "      <td>37.0</td>\n",
       "      <td>187</td>\n",
       "      <td>23</td>\n",
       "      <td>5</td>\n",
       "      <td>2013-08-20 23:00:00</td>\n",
       "    </tr>\n",
       "    <tr>\n",
       "      <th>138872</th>\n",
       "      <td>2013</td>\n",
       "      <td>3</td>\n",
       "      <td>3</td>\n",
       "      <td>2248.0</td>\n",
       "      <td>2251</td>\n",
       "      <td>-3.0</td>\n",
       "      <td>2400.0</td>\n",
       "      <td>2357</td>\n",
       "      <td>3.0</td>\n",
       "      <td>B6</td>\n",
       "      <td>22</td>\n",
       "      <td>N307JB</td>\n",
       "      <td>JFK</td>\n",
       "      <td>SYR</td>\n",
       "      <td>44.0</td>\n",
       "      <td>209</td>\n",
       "      <td>22</td>\n",
       "      <td>51</td>\n",
       "      <td>2013-03-03 22:00:00</td>\n",
       "    </tr>\n",
       "    <tr>\n",
       "      <th>29919</th>\n",
       "      <td>2013</td>\n",
       "      <td>10</td>\n",
       "      <td>3</td>\n",
       "      <td>2210.0</td>\n",
       "      <td>2030</td>\n",
       "      <td>100.0</td>\n",
       "      <td>2400.0</td>\n",
       "      <td>2251</td>\n",
       "      <td>69.0</td>\n",
       "      <td>EV</td>\n",
       "      <td>5209</td>\n",
       "      <td>N709EV</td>\n",
       "      <td>LGA</td>\n",
       "      <td>CHS</td>\n",
       "      <td>86.0</td>\n",
       "      <td>641</td>\n",
       "      <td>20</td>\n",
       "      <td>30</td>\n",
       "      <td>2013-10-03 20:00:00</td>\n",
       "    </tr>\n",
       "  </tbody>\n",
       "</table>\n",
       "<p>336776 rows × 19 columns</p>\n",
       "</div>"
      ],
      "text/plain": [
       "        year  month  day  dep_time  sched_dep_time  dep_delay  arr_time  \\\n",
       "755     2013      1    1    2016.0            1930       46.0       NaN   \n",
       "839     2013      1    1       NaN            1630        NaN       NaN   \n",
       "840     2013      1    1       NaN            1935        NaN       NaN   \n",
       "841     2013      1    1       NaN            1500        NaN       NaN   \n",
       "842     2013      1    1       NaN             600        NaN       NaN   \n",
       "...      ...    ...  ...       ...             ...        ...       ...   \n",
       "64888   2013     11   10    2027.0            2015       12.0    2400.0   \n",
       "120641  2013      2   11    2220.0            2000      140.0    2400.0   \n",
       "299005  2013      8   20    2302.0            2305       -3.0    2400.0   \n",
       "138872  2013      3    3    2248.0            2251       -3.0    2400.0   \n",
       "29919   2013     10    3    2210.0            2030      100.0    2400.0   \n",
       "\n",
       "        sched_arr_time  arr_delay carrier  flight tailnum origin dest  \\\n",
       "755               2220        NaN      EV    4204  N14168    EWR  OKC   \n",
       "839               1815        NaN      EV    4308  N18120    EWR  RDU   \n",
       "840               2240        NaN      AA     791  N3EHAA    LGA  DFW   \n",
       "841               1825        NaN      AA    1925  N3EVAA    LGA  MIA   \n",
       "842                901        NaN      B6     125  N618JB    JFK  FLL   \n",
       "...                ...        ...     ...     ...     ...    ...  ...   \n",
       "64888             2354        6.0      DL     427  N197DN    JFK  LAX   \n",
       "120641            2137      143.0      EV    4106  N13914    EWR  GSO   \n",
       "299005              13      -13.0      B6     718  N348JB    JFK  BOS   \n",
       "138872            2357        3.0      B6      22  N307JB    JFK  SYR   \n",
       "29919             2251       69.0      EV    5209  N709EV    LGA  CHS   \n",
       "\n",
       "        air_time  distance  hour  minute            time_hour  \n",
       "755          NaN      1325    19      30  2013-01-01 19:00:00  \n",
       "839          NaN       416    16      30  2013-01-01 16:00:00  \n",
       "840          NaN      1389    19      35  2013-01-01 19:00:00  \n",
       "841          NaN      1096    15       0  2013-01-01 15:00:00  \n",
       "842          NaN      1069     6       0  2013-01-01 06:00:00  \n",
       "...          ...       ...   ...     ...                  ...  \n",
       "64888      329.0      2475    20      15  2013-11-10 20:00:00  \n",
       "120641      79.0       445    20       0  2013-02-11 20:00:00  \n",
       "299005      37.0       187    23       5  2013-08-20 23:00:00  \n",
       "138872      44.0       209    22      51  2013-03-03 22:00:00  \n",
       "29919       86.0       641    20      30  2013-10-03 20:00:00  \n",
       "\n",
       "[336776 rows x 19 columns]"
      ]
     },
     "execution_count": 11,
     "metadata": {},
     "output_type": "execute_result"
    }
   ],
   "source": [
    "# Solution\n",
    "flights.sort_values(by='arr_time', na_position='first')\n",
    "# Entendí que se refería a un valor, por lo que repetí el arr_time de la preg 6"
   ]
  },
  {
   "cell_type": "markdown",
   "metadata": {},
   "source": [
    "## Add new variables "
   ]
  },
  {
   "cell_type": "markdown",
   "metadata": {},
   "source": [
    "9. Currently `dep_time` and `arr_time` are convenient to look at, but hard to compute with because they’re not really continuous numbers. Convert them to number of minutes since midnight in new vars called `arr_time_min` and `dep_time_min`"
   ]
  },
  {
   "cell_type": "code",
   "execution_count": 16,
   "metadata": {},
   "outputs": [
    {
     "data": {
      "text/html": [
       "<div>\n",
       "<style scoped>\n",
       "    .dataframe tbody tr th:only-of-type {\n",
       "        vertical-align: middle;\n",
       "    }\n",
       "\n",
       "    .dataframe tbody tr th {\n",
       "        vertical-align: top;\n",
       "    }\n",
       "\n",
       "    .dataframe thead th {\n",
       "        text-align: right;\n",
       "    }\n",
       "</style>\n",
       "<table border=\"1\" class=\"dataframe\">\n",
       "  <thead>\n",
       "    <tr style=\"text-align: right;\">\n",
       "      <th></th>\n",
       "      <th>year</th>\n",
       "      <th>month</th>\n",
       "      <th>day</th>\n",
       "      <th>dep_time</th>\n",
       "      <th>sched_dep_time</th>\n",
       "      <th>dep_delay</th>\n",
       "      <th>arr_time</th>\n",
       "      <th>sched_arr_time</th>\n",
       "      <th>arr_delay</th>\n",
       "      <th>carrier</th>\n",
       "      <th>...</th>\n",
       "      <th>tailnum</th>\n",
       "      <th>origin</th>\n",
       "      <th>dest</th>\n",
       "      <th>air_time</th>\n",
       "      <th>distance</th>\n",
       "      <th>hour</th>\n",
       "      <th>minute</th>\n",
       "      <th>time_hour</th>\n",
       "      <th>arr_time_min</th>\n",
       "      <th>dep_time_min</th>\n",
       "    </tr>\n",
       "  </thead>\n",
       "  <tbody>\n",
       "    <tr>\n",
       "      <th>1</th>\n",
       "      <td>2013</td>\n",
       "      <td>1</td>\n",
       "      <td>1</td>\n",
       "      <td>517.0</td>\n",
       "      <td>515</td>\n",
       "      <td>2.0</td>\n",
       "      <td>830.0</td>\n",
       "      <td>819</td>\n",
       "      <td>11.0</td>\n",
       "      <td>UA</td>\n",
       "      <td>...</td>\n",
       "      <td>N14228</td>\n",
       "      <td>EWR</td>\n",
       "      <td>IAH</td>\n",
       "      <td>227.0</td>\n",
       "      <td>1400</td>\n",
       "      <td>5</td>\n",
       "      <td>15</td>\n",
       "      <td>2013-01-01 05:00:00</td>\n",
       "      <td>840.0</td>\n",
       "      <td>780.0</td>\n",
       "    </tr>\n",
       "    <tr>\n",
       "      <th>2</th>\n",
       "      <td>2013</td>\n",
       "      <td>1</td>\n",
       "      <td>1</td>\n",
       "      <td>533.0</td>\n",
       "      <td>529</td>\n",
       "      <td>4.0</td>\n",
       "      <td>850.0</td>\n",
       "      <td>830</td>\n",
       "      <td>20.0</td>\n",
       "      <td>UA</td>\n",
       "      <td>...</td>\n",
       "      <td>N24211</td>\n",
       "      <td>LGA</td>\n",
       "      <td>IAH</td>\n",
       "      <td>227.0</td>\n",
       "      <td>1416</td>\n",
       "      <td>5</td>\n",
       "      <td>29</td>\n",
       "      <td>2013-01-01 05:00:00</td>\n",
       "      <td>600.0</td>\n",
       "      <td>300.0</td>\n",
       "    </tr>\n",
       "    <tr>\n",
       "      <th>3</th>\n",
       "      <td>2013</td>\n",
       "      <td>1</td>\n",
       "      <td>1</td>\n",
       "      <td>542.0</td>\n",
       "      <td>540</td>\n",
       "      <td>2.0</td>\n",
       "      <td>923.0</td>\n",
       "      <td>850</td>\n",
       "      <td>33.0</td>\n",
       "      <td>AA</td>\n",
       "      <td>...</td>\n",
       "      <td>N619AA</td>\n",
       "      <td>JFK</td>\n",
       "      <td>MIA</td>\n",
       "      <td>160.0</td>\n",
       "      <td>1089</td>\n",
       "      <td>5</td>\n",
       "      <td>40</td>\n",
       "      <td>2013-01-01 05:00:00</td>\n",
       "      <td>660.0</td>\n",
       "      <td>840.0</td>\n",
       "    </tr>\n",
       "    <tr>\n",
       "      <th>4</th>\n",
       "      <td>2013</td>\n",
       "      <td>1</td>\n",
       "      <td>1</td>\n",
       "      <td>544.0</td>\n",
       "      <td>545</td>\n",
       "      <td>-1.0</td>\n",
       "      <td>1004.0</td>\n",
       "      <td>1022</td>\n",
       "      <td>-18.0</td>\n",
       "      <td>B6</td>\n",
       "      <td>...</td>\n",
       "      <td>N804JB</td>\n",
       "      <td>JFK</td>\n",
       "      <td>BQN</td>\n",
       "      <td>183.0</td>\n",
       "      <td>1576</td>\n",
       "      <td>5</td>\n",
       "      <td>45</td>\n",
       "      <td>2013-01-01 05:00:00</td>\n",
       "      <td>1200.0</td>\n",
       "      <td>960.0</td>\n",
       "    </tr>\n",
       "    <tr>\n",
       "      <th>5</th>\n",
       "      <td>2013</td>\n",
       "      <td>1</td>\n",
       "      <td>1</td>\n",
       "      <td>554.0</td>\n",
       "      <td>600</td>\n",
       "      <td>-6.0</td>\n",
       "      <td>812.0</td>\n",
       "      <td>837</td>\n",
       "      <td>-25.0</td>\n",
       "      <td>DL</td>\n",
       "      <td>...</td>\n",
       "      <td>N668DN</td>\n",
       "      <td>LGA</td>\n",
       "      <td>ATL</td>\n",
       "      <td>116.0</td>\n",
       "      <td>762</td>\n",
       "      <td>6</td>\n",
       "      <td>0</td>\n",
       "      <td>2013-01-01 06:00:00</td>\n",
       "      <td>1200.0</td>\n",
       "      <td>120.0</td>\n",
       "    </tr>\n",
       "  </tbody>\n",
       "</table>\n",
       "<p>5 rows × 21 columns</p>\n",
       "</div>"
      ],
      "text/plain": [
       "   year  month  day  dep_time  sched_dep_time  dep_delay  arr_time  \\\n",
       "1  2013      1    1     517.0             515        2.0     830.0   \n",
       "2  2013      1    1     533.0             529        4.0     850.0   \n",
       "3  2013      1    1     542.0             540        2.0     923.0   \n",
       "4  2013      1    1     544.0             545       -1.0    1004.0   \n",
       "5  2013      1    1     554.0             600       -6.0     812.0   \n",
       "\n",
       "   sched_arr_time  arr_delay carrier  ...  tailnum origin dest air_time  \\\n",
       "1             819       11.0      UA  ...   N14228    EWR  IAH    227.0   \n",
       "2             830       20.0      UA  ...   N24211    LGA  IAH    227.0   \n",
       "3             850       33.0      AA  ...   N619AA    JFK  MIA    160.0   \n",
       "4            1022      -18.0      B6  ...   N804JB    JFK  BQN    183.0   \n",
       "5             837      -25.0      DL  ...   N668DN    LGA  ATL    116.0   \n",
       "\n",
       "   distance  hour  minute            time_hour arr_time_min  dep_time_min  \n",
       "1      1400     5      15  2013-01-01 05:00:00        840.0         780.0  \n",
       "2      1416     5      29  2013-01-01 05:00:00        600.0         300.0  \n",
       "3      1089     5      40  2013-01-01 05:00:00        660.0         840.0  \n",
       "4      1576     5      45  2013-01-01 05:00:00       1200.0         960.0  \n",
       "5       762     6       0  2013-01-01 06:00:00       1200.0         120.0  \n",
       "\n",
       "[5 rows x 21 columns]"
      ]
     },
     "execution_count": 16,
     "metadata": {},
     "output_type": "execute_result"
    }
   ],
   "source": [
    "# Solution\n",
    "flights['arr_time_min'] = flights['arr_time']*60\n",
    "flights['arr_time_min'] = flights['arr_time_min'].mod(1440)\n",
    "\n",
    "flights['dep_time_min'] = flights['dep_time']*60\n",
    "flights['dep_time_min'] = flights['dep_time_min'].mod(1440)\n",
    "flights.head()"
   ]
  },
  {
   "cell_type": "markdown",
   "metadata": {},
   "source": [
    "10. Make a plot to compare `air_time` with `arr_time_min` - `dep_time_min`"
   ]
  },
  {
   "cell_type": "code",
   "execution_count": 23,
   "metadata": {},
   "outputs": [
    {
     "name": "stdout",
     "output_type": "stream",
     "text": [
      "Collecting matplotlib\n",
      "  Obtaining dependency information for matplotlib from https://files.pythonhosted.org/packages/26/5a/27fd341e4510257789f19a4b4be8bb90d1113b8f176c3dab562b4f21466e/matplotlib-3.8.2-cp311-cp311-win_amd64.whl.metadata\n",
      "  Downloading matplotlib-3.8.2-cp311-cp311-win_amd64.whl.metadata (5.9 kB)\n",
      "Collecting contourpy>=1.0.1 (from matplotlib)\n",
      "  Obtaining dependency information for contourpy>=1.0.1 from https://files.pythonhosted.org/packages/ca/2a/d197a412ec474391ee878b1218cf2fe9c6e963903755887fc5654c06636a/contourpy-1.2.0-cp311-cp311-win_amd64.whl.metadata\n",
      "  Downloading contourpy-1.2.0-cp311-cp311-win_amd64.whl.metadata (5.8 kB)\n",
      "Collecting cycler>=0.10 (from matplotlib)\n",
      "  Obtaining dependency information for cycler>=0.10 from https://files.pythonhosted.org/packages/e7/05/c19819d5e3d95294a6f5947fb9b9629efb316b96de511b418c53d245aae6/cycler-0.12.1-py3-none-any.whl.metadata\n",
      "  Downloading cycler-0.12.1-py3-none-any.whl.metadata (3.8 kB)\n",
      "Collecting fonttools>=4.22.0 (from matplotlib)\n",
      "  Obtaining dependency information for fonttools>=4.22.0 from https://files.pythonhosted.org/packages/d2/54/26919780384c6dd9c3108c5ca64bbe8af45ce567e2f2493cd0cb8c596b9a/fonttools-4.47.0-cp311-cp311-win_amd64.whl.metadata\n",
      "  Downloading fonttools-4.47.0-cp311-cp311-win_amd64.whl.metadata (160 kB)\n",
      "     ---------------------------------------- 0.0/160.4 kB ? eta -:--:--\n",
      "     ------------------------------------ - 153.6/160.4 kB 4.5 MB/s eta 0:00:01\n",
      "     ------------------------------------ - 153.6/160.4 kB 4.5 MB/s eta 0:00:01\n",
      "     -------------------------------------- 160.4/160.4 kB 1.6 MB/s eta 0:00:00\n",
      "Collecting kiwisolver>=1.3.1 (from matplotlib)\n",
      "  Obtaining dependency information for kiwisolver>=1.3.1 from https://files.pythonhosted.org/packages/1e/37/d3c2d4ba2719059a0f12730947bbe1ad5ee8bff89e8c35319dcb2c9ddb4c/kiwisolver-1.4.5-cp311-cp311-win_amd64.whl.metadata\n",
      "  Downloading kiwisolver-1.4.5-cp311-cp311-win_amd64.whl.metadata (6.5 kB)\n",
      "Requirement already satisfied: numpy<2,>=1.21 in c:\\users\\joshua\\appdata\\local\\programs\\python\\python311\\lib\\site-packages (from matplotlib) (1.26.3)\n",
      "Requirement already satisfied: packaging>=20.0 in c:\\users\\joshua\\appdata\\roaming\\python\\python311\\site-packages (from matplotlib) (23.2)\n",
      "Collecting pillow>=8 (from matplotlib)\n",
      "  Obtaining dependency information for pillow>=8 from https://files.pythonhosted.org/packages/43/56/f92715a873187b5eff72a4a0d2ac6258e18e9bfb0e136aafde65c49a841a/pillow-10.2.0-cp311-cp311-win_amd64.whl.metadata\n",
      "  Downloading pillow-10.2.0-cp311-cp311-win_amd64.whl.metadata (9.9 kB)\n",
      "Collecting pyparsing>=2.3.1 (from matplotlib)\n",
      "  Obtaining dependency information for pyparsing>=2.3.1 from https://files.pythonhosted.org/packages/39/92/8486ede85fcc088f1b3dba4ce92dd29d126fd96b0008ea213167940a2475/pyparsing-3.1.1-py3-none-any.whl.metadata\n",
      "  Downloading pyparsing-3.1.1-py3-none-any.whl.metadata (5.1 kB)\n",
      "Requirement already satisfied: python-dateutil>=2.7 in c:\\users\\joshua\\appdata\\roaming\\python\\python311\\site-packages (from matplotlib) (2.8.2)\n",
      "Requirement already satisfied: six>=1.5 in c:\\users\\joshua\\appdata\\roaming\\python\\python311\\site-packages (from python-dateutil>=2.7->matplotlib) (1.16.0)\n",
      "Downloading matplotlib-3.8.2-cp311-cp311-win_amd64.whl (7.6 MB)\n",
      "   ---------------------------------------- 0.0/7.6 MB ? eta -:--:--\n",
      "   - -------------------------------------- 0.3/7.6 MB 5.6 MB/s eta 0:00:02\n",
      "   -- ------------------------------------- 0.4/7.6 MB 4.1 MB/s eta 0:00:02\n",
      "   --- ------------------------------------ 0.6/7.6 MB 4.1 MB/s eta 0:00:02\n",
      "   ---- ----------------------------------- 0.8/7.6 MB 4.1 MB/s eta 0:00:02\n",
      "   ----- ---------------------------------- 1.0/7.6 MB 4.7 MB/s eta 0:00:02\n",
      "   ------ --------------------------------- 1.2/7.6 MB 4.6 MB/s eta 0:00:02\n",
      "   ------- -------------------------------- 1.4/7.6 MB 4.3 MB/s eta 0:00:02\n",
      "   -------- ------------------------------- 1.6/7.6 MB 4.3 MB/s eta 0:00:02\n",
      "   --------- ------------------------------ 1.8/7.6 MB 4.5 MB/s eta 0:00:02\n",
      "   ---------- ----------------------------- 1.9/7.6 MB 4.2 MB/s eta 0:00:02\n",
      "   ---------- ----------------------------- 2.1/7.6 MB 4.1 MB/s eta 0:00:02\n",
      "   ----------- ---------------------------- 2.2/7.6 MB 4.0 MB/s eta 0:00:02\n",
      "   ------------ --------------------------- 2.5/7.6 MB 4.0 MB/s eta 0:00:02\n",
      "   -------------- ------------------------- 2.7/7.6 MB 4.1 MB/s eta 0:00:02\n",
      "   -------------- ------------------------- 2.9/7.6 MB 4.0 MB/s eta 0:00:02\n",
      "   ---------------- ----------------------- 3.1/7.6 MB 4.2 MB/s eta 0:00:02\n",
      "   ----------------- ---------------------- 3.3/7.6 MB 4.1 MB/s eta 0:00:02\n",
      "   ----------------- ---------------------- 3.4/7.6 MB 4.1 MB/s eta 0:00:02\n",
      "   ------------------- -------------------- 3.6/7.6 MB 4.1 MB/s eta 0:00:01\n",
      "   -------------------- ------------------- 3.9/7.6 MB 4.1 MB/s eta 0:00:01\n",
      "   --------------------- ------------------ 4.1/7.6 MB 4.2 MB/s eta 0:00:01\n",
      "   ---------------------- ----------------- 4.3/7.6 MB 4.2 MB/s eta 0:00:01\n",
      "   ----------------------- ---------------- 4.5/7.6 MB 4.2 MB/s eta 0:00:01\n",
      "   ------------------------ --------------- 4.7/7.6 MB 4.2 MB/s eta 0:00:01\n",
      "   ------------------------- -------------- 4.9/7.6 MB 4.2 MB/s eta 0:00:01\n",
      "   -------------------------- ------------- 5.2/7.6 MB 4.2 MB/s eta 0:00:01\n",
      "   --------------------------- ------------ 5.3/7.6 MB 4.3 MB/s eta 0:00:01\n",
      "   ----------------------------- ---------- 5.6/7.6 MB 4.2 MB/s eta 0:00:01\n",
      "   ------------------------------ --------- 5.8/7.6 MB 4.2 MB/s eta 0:00:01\n",
      "   ------------------------------- -------- 5.9/7.6 MB 4.3 MB/s eta 0:00:01\n",
      "   ------------------------------- -------- 6.1/7.6 MB 4.2 MB/s eta 0:00:01\n",
      "   -------------------------------- ------- 6.3/7.6 MB 4.2 MB/s eta 0:00:01\n",
      "   ---------------------------------- ----- 6.6/7.6 MB 4.2 MB/s eta 0:00:01\n",
      "   ----------------------------------- ---- 6.8/7.6 MB 4.2 MB/s eta 0:00:01\n",
      "   ------------------------------------- -- 7.1/7.6 MB 4.3 MB/s eta 0:00:01\n",
      "   -------------------------------------- - 7.3/7.6 MB 4.2 MB/s eta 0:00:01\n",
      "   ---------------------------------------  7.5/7.6 MB 4.3 MB/s eta 0:00:01\n",
      "   ---------------------------------------  7.6/7.6 MB 4.2 MB/s eta 0:00:01\n",
      "   ---------------------------------------  7.6/7.6 MB 4.2 MB/s eta 0:00:01\n",
      "   ---------------------------------------  7.6/7.6 MB 4.2 MB/s eta 0:00:01\n",
      "   ---------------------------------------  7.6/7.6 MB 4.2 MB/s eta 0:00:01\n",
      "   ---------------------------------------  7.6/7.6 MB 4.2 MB/s eta 0:00:01\n",
      "   ---------------------------------------  7.6/7.6 MB 4.2 MB/s eta 0:00:01\n",
      "   ---------------------------------------  7.6/7.6 MB 4.2 MB/s eta 0:00:01\n",
      "   ---------------------------------------  7.6/7.6 MB 4.2 MB/s eta 0:00:01\n",
      "   ---------------------------------------  7.6/7.6 MB 4.2 MB/s eta 0:00:01\n",
      "   ---------------------------------------  7.6/7.6 MB 4.2 MB/s eta 0:00:01\n",
      "   ---------------------------------------  7.6/7.6 MB 4.2 MB/s eta 0:00:01\n",
      "   ---------------------------------------  7.6/7.6 MB 4.2 MB/s eta 0:00:01\n",
      "   ---------------------------------------- 7.6/7.6 MB 3.3 MB/s eta 0:00:00\n",
      "Downloading contourpy-1.2.0-cp311-cp311-win_amd64.whl (187 kB)\n",
      "   ---------------------------------------- 0.0/187.6 kB ? eta -:--:--\n",
      "   --------------------------------------  184.3/187.6 kB 11.6 MB/s eta 0:00:01\n",
      "   --------------------------------------  184.3/187.6 kB 11.6 MB/s eta 0:00:01\n",
      "   --------------------------------------  184.3/187.6 kB 11.6 MB/s eta 0:00:01\n",
      "   --------------------------------------  184.3/187.6 kB 11.6 MB/s eta 0:00:01\n",
      "   -------------------------------------- 187.6/187.6 kB 873.5 kB/s eta 0:00:00\n",
      "Downloading cycler-0.12.1-py3-none-any.whl (8.3 kB)\n",
      "Downloading fonttools-4.47.0-cp311-cp311-win_amd64.whl (2.2 MB)\n",
      "   ---------------------------------------- 0.0/2.2 MB ? eta -:--:--\n",
      "   ----- ---------------------------------- 0.3/2.2 MB 6.3 MB/s eta 0:00:01\n",
      "   -------- ------------------------------- 0.5/2.2 MB 5.0 MB/s eta 0:00:01\n",
      "   ----------- ---------------------------- 0.6/2.2 MB 4.5 MB/s eta 0:00:01\n",
      "   --------------- ------------------------ 0.9/2.2 MB 4.9 MB/s eta 0:00:01\n",
      "   ------------------- -------------------- 1.1/2.2 MB 4.5 MB/s eta 0:00:01\n",
      "   ------------------------- -------------- 1.4/2.2 MB 4.6 MB/s eta 0:00:01\n",
      "   ----------------------------- ---------- 1.6/2.2 MB 4.6 MB/s eta 0:00:01\n",
      "   -------------------------------- ------- 1.8/2.2 MB 4.5 MB/s eta 0:00:01\n",
      "   ----------------------------------- ---- 1.9/2.2 MB 4.4 MB/s eta 0:00:01\n",
      "   ---------------------------------------  2.2/2.2 MB 4.5 MB/s eta 0:00:01\n",
      "   ---------------------------------------  2.2/2.2 MB 4.5 MB/s eta 0:00:01\n",
      "   ---------------------------------------  2.2/2.2 MB 4.5 MB/s eta 0:00:01\n",
      "   ---------------------------------------- 2.2/2.2 MB 3.6 MB/s eta 0:00:00\n",
      "Downloading kiwisolver-1.4.5-cp311-cp311-win_amd64.whl (56 kB)\n",
      "   ---------------------------------------- 0.0/56.1 kB ? eta -:--:--\n",
      "   ------------------------------------ --- 51.2/56.1 kB ? eta -:--:--\n",
      "   ---------------------------------------- 56.1/56.1 kB 739.9 kB/s eta 0:00:00\n",
      "Downloading pillow-10.2.0-cp311-cp311-win_amd64.whl (2.6 MB)\n",
      "   ---------------------------------------- 0.0/2.6 MB ? eta -:--:--\n",
      "   -- ------------------------------------- 0.2/2.6 MB 5.9 MB/s eta 0:00:01\n",
      "   ------ --------------------------------- 0.5/2.6 MB 4.7 MB/s eta 0:00:01\n",
      "   ---------- ----------------------------- 0.7/2.6 MB 5.5 MB/s eta 0:00:01\n",
      "   -------------- ------------------------- 0.9/2.6 MB 5.3 MB/s eta 0:00:01\n",
      "   ----------------- ---------------------- 1.2/2.6 MB 5.0 MB/s eta 0:00:01\n",
      "   --------------------- ------------------ 1.4/2.6 MB 5.0 MB/s eta 0:00:01\n",
      "   ------------------------ --------------- 1.6/2.6 MB 4.9 MB/s eta 0:00:01\n",
      "   ---------------------------- ----------- 1.8/2.6 MB 4.9 MB/s eta 0:00:01\n",
      "   -------------------------------- ------- 2.1/2.6 MB 5.0 MB/s eta 0:00:01\n",
      "   ----------------------------------- ---- 2.3/2.6 MB 4.9 MB/s eta 0:00:01\n",
      "   ------------------------------------- -- 2.5/2.6 MB 4.9 MB/s eta 0:00:01\n",
      "   ---------------------------------------  2.6/2.6 MB 4.8 MB/s eta 0:00:01\n",
      "   ---------------------------------------  2.6/2.6 MB 4.8 MB/s eta 0:00:01\n",
      "   ---------------------------------------  2.6/2.6 MB 4.8 MB/s eta 0:00:01\n",
      "   ---------------------------------------  2.6/2.6 MB 4.8 MB/s eta 0:00:01\n",
      "   ---------------------------------------- 2.6/2.6 MB 3.6 MB/s eta 0:00:00\n",
      "Downloading pyparsing-3.1.1-py3-none-any.whl (103 kB)\n",
      "   ---------------------------------------- 0.0/103.1 kB ? eta -:--:--\n",
      "   ---------------------------------------  102.4/103.1 kB ? eta -:--:--\n",
      "   ---------------------------------------- 103.1/103.1 kB 1.5 MB/s eta 0:00:00\n",
      "Installing collected packages: pyparsing, pillow, kiwisolver, fonttools, cycler, contourpy, matplotlib\n",
      "Successfully installed contourpy-1.2.0 cycler-0.12.1 fonttools-4.47.0 kiwisolver-1.4.5 matplotlib-3.8.2 pillow-10.2.0 pyparsing-3.1.1\n"
     ]
    },
    {
     "name": "stderr",
     "output_type": "stream",
     "text": [
      "\n",
      "[notice] A new release of pip is available: 23.2.1 -> 23.3.2\n",
      "[notice] To update, run: python.exe -m pip install --upgrade pip\n"
     ]
    }
   ],
   "source": [
    "# Solution\n",
    "# se entiende como plot desde la importación del paquete matplotlib.pyplot\n",
    "!pip install matplotlib\n",
    "#import matplotlib.pyplot as plt"
   ]
  },
  {
   "cell_type": "markdown",
   "metadata": {},
   "source": [
    "11. We expect `air_time` and `arr_time_min` - `dep_time_min` to be the same, but they’re not. Why not?\n",
    "Identify a major data issue and subtle one."
   ]
  },
  {
   "cell_type": "code",
   "execution_count": null,
   "metadata": {},
   "outputs": [],
   "source": [
    "# Solution"
   ]
  },
  {
   "cell_type": "markdown",
   "metadata": {},
   "source": [
    "12. Implement your fix to the major probelm. Remake the plot from the previous question."
   ]
  },
  {
   "cell_type": "code",
   "execution_count": null,
   "metadata": {},
   "outputs": [],
   "source": [
    "# Solution"
   ]
  },
  {
   "cell_type": "markdown",
   "metadata": {},
   "source": [
    "13. Find the 10 most delayed flights "
   ]
  },
  {
   "cell_type": "code",
   "execution_count": null,
   "metadata": {},
   "outputs": [],
   "source": [
    "# Solution"
   ]
  },
  {
   "cell_type": "markdown",
   "metadata": {},
   "source": [
    "## Summarizing grouped data"
   ]
  },
  {
   "cell_type": "markdown",
   "metadata": {},
   "source": [
    "14. Calculate average delays by destination for flights originating in NYC. Create a variable which ranks destinations from worst to best, where 1 is the worst rank."
   ]
  },
  {
   "cell_type": "code",
   "execution_count": null,
   "metadata": {},
   "outputs": [],
   "source": [
    "# Solution"
   ]
  },
  {
   "cell_type": "markdown",
   "metadata": {},
   "source": [
    "15. Which plane (`tailnum`) has the most minutes of delays total?"
   ]
  },
  {
   "cell_type": "code",
   "execution_count": null,
   "metadata": {},
   "outputs": [],
   "source": [
    "# Solution"
   ]
  },
  {
   "cell_type": "markdown",
   "metadata": {},
   "source": [
    "16. Which airlines only offer flights from New York to one other airport?"
   ]
  },
  {
   "cell_type": "code",
   "execution_count": null,
   "metadata": {},
   "outputs": [],
   "source": [
    "# Solution"
   ]
  },
  {
   "cell_type": "markdown",
   "metadata": {},
   "source": [
    "17. Calculate the median arrival delay by airline."
   ]
  },
  {
   "cell_type": "code",
   "execution_count": null,
   "metadata": {},
   "outputs": [],
   "source": [
    "# Solution"
   ]
  },
  {
   "cell_type": "markdown",
   "metadata": {},
   "source": [
    "18. ExpressJet has a median arrival delay of -1 minutes while US Airways has a median arrival delay of -6 minutes. Does this tell you that US Airways is a more reliable airline? Why or why not?\n"
   ]
  },
  {
   "cell_type": "code",
   "execution_count": null,
   "metadata": {},
   "outputs": [],
   "source": [
    "# Solution"
   ]
  },
  {
   "cell_type": "markdown",
   "metadata": {},
   "source": [
    "19. Median arrival delay may not be the best metric for our needs. Brainstorm at least 4 additional ways to assess the typical delay characteristics of a group of flights."
   ]
  },
  {
   "cell_type": "code",
   "execution_count": null,
   "metadata": {},
   "outputs": [],
   "source": [
    "# Solution"
   ]
  },
  {
   "cell_type": "markdown",
   "metadata": {},
   "source": [
    "20. Write a code which calculates your delay measures separately by airline. Do particular airlines perform poorly on multiple metrics?"
   ]
  },
  {
   "cell_type": "code",
   "execution_count": null,
   "metadata": {},
   "outputs": [],
   "source": [
    "# Solution"
   ]
  },
  {
   "cell_type": "markdown",
   "metadata": {},
   "source": []
  }
 ],
 "metadata": {
  "hide_input": false,
  "kernelspec": {
   "display_name": "Python 3 (ipykernel)",
   "language": "python",
   "name": "python3"
  },
  "language_info": {
   "codemirror_mode": {
    "name": "ipython",
    "version": 3
   },
   "file_extension": ".py",
   "mimetype": "text/x-python",
   "name": "python",
   "nbconvert_exporter": "python",
   "pygments_lexer": "ipython3",
   "version": "3.11.5"
  },
  "toc": {
   "base_numbering": 1,
   "nav_menu": {},
   "number_sections": true,
   "sideBar": true,
   "skip_h1_title": false,
   "title_cell": "Table of Contents",
   "title_sidebar": "Contents",
   "toc_cell": false,
   "toc_position": {},
   "toc_section_display": true,
   "toc_window_display": false
  }
 },
 "nbformat": 4,
 "nbformat_minor": 4
}
