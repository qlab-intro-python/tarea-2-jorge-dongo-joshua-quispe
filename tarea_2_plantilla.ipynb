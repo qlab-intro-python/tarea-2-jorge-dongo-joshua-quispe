{
 "cells": [
  {
   "cell_type": "markdown",
   "metadata": {},
   "source": [
    "# **Tarea Nº 2**"
   ]
  },
  {
   "cell_type": "markdown",
   "metadata": {},
   "source": [
    "Curso:          Fundamentos de Programación en Python para Macroeconomía y Finanzas     \n",
    "Profesor:       Victor Fuentes Campos     "
   ]
  },
  {
   "cell_type": "markdown",
   "metadata": {},
   "source": [
    "- Fecha y hora de entrega: Sábado 6 de enero, 11:59pm\n",
    "- Agregue los nombres de las personas con las que discutió esta tarea: ____ Armando Paredes ______\n",
    "- Envíe su tarea haciendo el `push` de su código a su repo en GitHub Classroom: "
   ]
  },
  {
   "cell_type": "markdown",
   "metadata": {},
   "source": [
    "## Filtering rows"
   ]
  },
  {
   "cell_type": "markdown",
   "metadata": {},
   "source": [
    "1. Import the `flights.csv` dataset. Find all flights that:\n",
    "\n",
    "    a. Had an arrival delay of three or more hours\n",
    "    b. Flew to Houston (IAH or HOU)\n",
    "    c. Were operated by United, American, or Southwest\n",
    "    d. Departed in spring (March, April, and June)\n",
    "    e. Arrived more than two hours late, but didn’t leave late\n",
    "    f. Were delayed by at least an hour, but made up over 30 minutes in flight 7. Departed between midnight and 5am (inclusive)"
   ]
  },
  {
   "cell_type": "code",
   "execution_count": null,
   "metadata": {},
   "outputs": [],
   "source": [
    "# Solution"
   ]
  },
  {
   "cell_type": "markdown",
   "metadata": {},
   "source": [
    "2. How many flights have a missing dep_time? What other variables are missing? What might these rows represent?"
   ]
  },
  {
   "cell_type": "code",
   "execution_count": 2,
   "metadata": {},
   "outputs": [
    {
     "data": {
      "text/plain": [
       "year                 0\n",
       "month                0\n",
       "day                  0\n",
       "dep_time          8255\n",
       "sched_dep_time       0\n",
       "dep_delay         8255\n",
       "arr_time          8713\n",
       "sched_arr_time       0\n",
       "arr_delay         9430\n",
       "carrier              0\n",
       "flight               0\n",
       "tailnum           2512\n",
       "origin               0\n",
       "dest                 0\n",
       "air_time          9430\n",
       "distance             0\n",
       "hour                 0\n",
       "minute               0\n",
       "time_hour            0\n",
       "dtype: int64"
      ]
     },
     "execution_count": 2,
     "metadata": {},
     "output_type": "execute_result"
    }
   ],
   "source": [
    "# Solution\n",
    "#import pandas as pd\n",
    "#import pyreadstat\n",
    "#flights = pd.read_csv(r\"flights.csv\", index_col=0)\n",
    "#display(flights, type(flights))\n",
    "\n",
    "flights.isnull().sum()\n",
    "## while missing values might indicate incomplete records or data collections issues\n",
    "## It's possible that cancelled or delayed flights might have taken part on the missing values issue\n"
   ]
  },
  {
   "cell_type": "markdown",
   "metadata": {},
   "source": [
    "3. What happens to observations **with missing values in `arr_time`** when you filter by **`arr_time == 1800`**? Why? (Hint: compare `2000 == 1800`, `1800 == 1800`, and `NA == 1800`)."
   ]
  },
  {
   "cell_type": "code",
   "execution_count": null,
   "metadata": {},
   "outputs": [],
   "source": [
    "# Solution"
   ]
  },
  {
   "cell_type": "markdown",
   "metadata": {},
   "source": [
    "4. What does `False & None` evaluate to? Why?"
   ]
  },
  {
   "cell_type": "code",
   "execution_count": null,
   "metadata": {},
   "outputs": [],
   "source": [
    "# Solution"
   ]
  },
  {
   "cell_type": "markdown",
   "metadata": {},
   "source": [
    "## Select columns"
   ]
  },
  {
   "cell_type": "markdown",
   "metadata": {},
   "source": [
    "5. Brainstorm as many distinct ways as possible to select `dep_time`, `dep_delay`, `arr_time`, and `arr_delay` from `flights`."
   ]
  },
  {
   "cell_type": "code",
   "execution_count": null,
   "metadata": {},
   "outputs": [],
   "source": [
    "# Solution"
   ]
  },
  {
   "cell_type": "markdown",
   "metadata": {},
   "source": [
    "## Sort columns"
   ]
  },
  {
   "cell_type": "markdown",
   "metadata": {},
   "source": [
    "6. Sort flights to find the most delayed flights by arrival time. Hint: End your code with head(1) to only print that row."
   ]
  },
  {
   "cell_type": "markdown",
   "metadata": {},
   "source": []
  },
  {
   "cell_type": "code",
   "execution_count": 10,
   "metadata": {},
   "outputs": [
    {
     "data": {
      "text/html": [
       "<div>\n",
       "<style scoped>\n",
       "    .dataframe tbody tr th:only-of-type {\n",
       "        vertical-align: middle;\n",
       "    }\n",
       "\n",
       "    .dataframe tbody tr th {\n",
       "        vertical-align: top;\n",
       "    }\n",
       "\n",
       "    .dataframe thead th {\n",
       "        text-align: right;\n",
       "    }\n",
       "</style>\n",
       "<table border=\"1\" class=\"dataframe\">\n",
       "  <thead>\n",
       "    <tr style=\"text-align: right;\">\n",
       "      <th></th>\n",
       "      <th>year</th>\n",
       "      <th>month</th>\n",
       "      <th>day</th>\n",
       "      <th>dep_time</th>\n",
       "      <th>sched_dep_time</th>\n",
       "      <th>dep_delay</th>\n",
       "      <th>arr_time</th>\n",
       "      <th>sched_arr_time</th>\n",
       "      <th>arr_delay</th>\n",
       "      <th>carrier</th>\n",
       "      <th>flight</th>\n",
       "      <th>tailnum</th>\n",
       "      <th>origin</th>\n",
       "      <th>dest</th>\n",
       "      <th>air_time</th>\n",
       "      <th>distance</th>\n",
       "      <th>hour</th>\n",
       "      <th>minute</th>\n",
       "      <th>time_hour</th>\n",
       "    </tr>\n",
       "  </thead>\n",
       "  <tbody>\n",
       "    <tr>\n",
       "      <th>244604</th>\n",
       "      <td>2013</td>\n",
       "      <td>6</td>\n",
       "      <td>24</td>\n",
       "      <td>2246.0</td>\n",
       "      <td>1859</td>\n",
       "      <td>227.0</td>\n",
       "      <td>2400.0</td>\n",
       "      <td>2026</td>\n",
       "      <td>214.0</td>\n",
       "      <td>EV</td>\n",
       "      <td>4131</td>\n",
       "      <td>N11150</td>\n",
       "      <td>EWR</td>\n",
       "      <td>RIC</td>\n",
       "      <td>48.0</td>\n",
       "      <td>277</td>\n",
       "      <td>18</td>\n",
       "      <td>59</td>\n",
       "      <td>2013-06-24 18:00:00</td>\n",
       "    </tr>\n",
       "  </tbody>\n",
       "</table>\n",
       "</div>"
      ],
      "text/plain": [
       "        year  month  day  dep_time  sched_dep_time  dep_delay  arr_time  \\\n",
       "244604  2013      6   24    2246.0            1859      227.0    2400.0   \n",
       "\n",
       "        sched_arr_time  arr_delay carrier  flight tailnum origin dest  \\\n",
       "244604            2026      214.0      EV    4131  N11150    EWR  RIC   \n",
       "\n",
       "        air_time  distance  hour  minute            time_hour  \n",
       "244604      48.0       277    18      59  2013-06-24 18:00:00  "
      ]
     },
     "execution_count": 10,
     "metadata": {},
     "output_type": "execute_result"
    }
   ],
   "source": [
    "# Solution\n",
    "flights.sort_values(by='arr_time', ascending=False).head(1)\n"
   ]
  },
  {
   "cell_type": "markdown",
   "metadata": {},
   "source": [
    "7. Find the top 5 flights that left earliest relative to their scheduled departure. Only show the tail number, date and number of minutes early they departed at."
   ]
  },
  {
   "cell_type": "code",
   "execution_count": null,
   "metadata": {},
   "outputs": [],
   "source": [
    "# Solution"
   ]
  },
  {
   "cell_type": "code",
   "execution_count": null,
   "metadata": {},
   "outputs": [],
   "source": [
    "8. How could you sort all missing values to the start? "
   ]
  },
  {
   "cell_type": "code",
   "execution_count": 11,
   "metadata": {},
   "outputs": [
    {
     "data": {
      "text/html": [
       "<div>\n",
       "<style scoped>\n",
       "    .dataframe tbody tr th:only-of-type {\n",
       "        vertical-align: middle;\n",
       "    }\n",
       "\n",
       "    .dataframe tbody tr th {\n",
       "        vertical-align: top;\n",
       "    }\n",
       "\n",
       "    .dataframe thead th {\n",
       "        text-align: right;\n",
       "    }\n",
       "</style>\n",
       "<table border=\"1\" class=\"dataframe\">\n",
       "  <thead>\n",
       "    <tr style=\"text-align: right;\">\n",
       "      <th></th>\n",
       "      <th>year</th>\n",
       "      <th>month</th>\n",
       "      <th>day</th>\n",
       "      <th>dep_time</th>\n",
       "      <th>sched_dep_time</th>\n",
       "      <th>dep_delay</th>\n",
       "      <th>arr_time</th>\n",
       "      <th>sched_arr_time</th>\n",
       "      <th>arr_delay</th>\n",
       "      <th>carrier</th>\n",
       "      <th>flight</th>\n",
       "      <th>tailnum</th>\n",
       "      <th>origin</th>\n",
       "      <th>dest</th>\n",
       "      <th>air_time</th>\n",
       "      <th>distance</th>\n",
       "      <th>hour</th>\n",
       "      <th>minute</th>\n",
       "      <th>time_hour</th>\n",
       "    </tr>\n",
       "  </thead>\n",
       "  <tbody>\n",
       "    <tr>\n",
       "      <th>755</th>\n",
       "      <td>2013</td>\n",
       "      <td>1</td>\n",
       "      <td>1</td>\n",
       "      <td>2016.0</td>\n",
       "      <td>1930</td>\n",
       "      <td>46.0</td>\n",
       "      <td>NaN</td>\n",
       "      <td>2220</td>\n",
       "      <td>NaN</td>\n",
       "      <td>EV</td>\n",
       "      <td>4204</td>\n",
       "      <td>N14168</td>\n",
       "      <td>EWR</td>\n",
       "      <td>OKC</td>\n",
       "      <td>NaN</td>\n",
       "      <td>1325</td>\n",
       "      <td>19</td>\n",
       "      <td>30</td>\n",
       "      <td>2013-01-01 19:00:00</td>\n",
       "    </tr>\n",
       "    <tr>\n",
       "      <th>839</th>\n",
       "      <td>2013</td>\n",
       "      <td>1</td>\n",
       "      <td>1</td>\n",
       "      <td>NaN</td>\n",
       "      <td>1630</td>\n",
       "      <td>NaN</td>\n",
       "      <td>NaN</td>\n",
       "      <td>1815</td>\n",
       "      <td>NaN</td>\n",
       "      <td>EV</td>\n",
       "      <td>4308</td>\n",
       "      <td>N18120</td>\n",
       "      <td>EWR</td>\n",
       "      <td>RDU</td>\n",
       "      <td>NaN</td>\n",
       "      <td>416</td>\n",
       "      <td>16</td>\n",
       "      <td>30</td>\n",
       "      <td>2013-01-01 16:00:00</td>\n",
       "    </tr>\n",
       "    <tr>\n",
       "      <th>840</th>\n",
       "      <td>2013</td>\n",
       "      <td>1</td>\n",
       "      <td>1</td>\n",
       "      <td>NaN</td>\n",
       "      <td>1935</td>\n",
       "      <td>NaN</td>\n",
       "      <td>NaN</td>\n",
       "      <td>2240</td>\n",
       "      <td>NaN</td>\n",
       "      <td>AA</td>\n",
       "      <td>791</td>\n",
       "      <td>N3EHAA</td>\n",
       "      <td>LGA</td>\n",
       "      <td>DFW</td>\n",
       "      <td>NaN</td>\n",
       "      <td>1389</td>\n",
       "      <td>19</td>\n",
       "      <td>35</td>\n",
       "      <td>2013-01-01 19:00:00</td>\n",
       "    </tr>\n",
       "    <tr>\n",
       "      <th>841</th>\n",
       "      <td>2013</td>\n",
       "      <td>1</td>\n",
       "      <td>1</td>\n",
       "      <td>NaN</td>\n",
       "      <td>1500</td>\n",
       "      <td>NaN</td>\n",
       "      <td>NaN</td>\n",
       "      <td>1825</td>\n",
       "      <td>NaN</td>\n",
       "      <td>AA</td>\n",
       "      <td>1925</td>\n",
       "      <td>N3EVAA</td>\n",
       "      <td>LGA</td>\n",
       "      <td>MIA</td>\n",
       "      <td>NaN</td>\n",
       "      <td>1096</td>\n",
       "      <td>15</td>\n",
       "      <td>0</td>\n",
       "      <td>2013-01-01 15:00:00</td>\n",
       "    </tr>\n",
       "    <tr>\n",
       "      <th>842</th>\n",
       "      <td>2013</td>\n",
       "      <td>1</td>\n",
       "      <td>1</td>\n",
       "      <td>NaN</td>\n",
       "      <td>600</td>\n",
       "      <td>NaN</td>\n",
       "      <td>NaN</td>\n",
       "      <td>901</td>\n",
       "      <td>NaN</td>\n",
       "      <td>B6</td>\n",
       "      <td>125</td>\n",
       "      <td>N618JB</td>\n",
       "      <td>JFK</td>\n",
       "      <td>FLL</td>\n",
       "      <td>NaN</td>\n",
       "      <td>1069</td>\n",
       "      <td>6</td>\n",
       "      <td>0</td>\n",
       "      <td>2013-01-01 06:00:00</td>\n",
       "    </tr>\n",
       "    <tr>\n",
       "      <th>...</th>\n",
       "      <td>...</td>\n",
       "      <td>...</td>\n",
       "      <td>...</td>\n",
       "      <td>...</td>\n",
       "      <td>...</td>\n",
       "      <td>...</td>\n",
       "      <td>...</td>\n",
       "      <td>...</td>\n",
       "      <td>...</td>\n",
       "      <td>...</td>\n",
       "      <td>...</td>\n",
       "      <td>...</td>\n",
       "      <td>...</td>\n",
       "      <td>...</td>\n",
       "      <td>...</td>\n",
       "      <td>...</td>\n",
       "      <td>...</td>\n",
       "      <td>...</td>\n",
       "      <td>...</td>\n",
       "    </tr>\n",
       "    <tr>\n",
       "      <th>64888</th>\n",
       "      <td>2013</td>\n",
       "      <td>11</td>\n",
       "      <td>10</td>\n",
       "      <td>2027.0</td>\n",
       "      <td>2015</td>\n",
       "      <td>12.0</td>\n",
       "      <td>2400.0</td>\n",
       "      <td>2354</td>\n",
       "      <td>6.0</td>\n",
       "      <td>DL</td>\n",
       "      <td>427</td>\n",
       "      <td>N197DN</td>\n",
       "      <td>JFK</td>\n",
       "      <td>LAX</td>\n",
       "      <td>329.0</td>\n",
       "      <td>2475</td>\n",
       "      <td>20</td>\n",
       "      <td>15</td>\n",
       "      <td>2013-11-10 20:00:00</td>\n",
       "    </tr>\n",
       "    <tr>\n",
       "      <th>120641</th>\n",
       "      <td>2013</td>\n",
       "      <td>2</td>\n",
       "      <td>11</td>\n",
       "      <td>2220.0</td>\n",
       "      <td>2000</td>\n",
       "      <td>140.0</td>\n",
       "      <td>2400.0</td>\n",
       "      <td>2137</td>\n",
       "      <td>143.0</td>\n",
       "      <td>EV</td>\n",
       "      <td>4106</td>\n",
       "      <td>N13914</td>\n",
       "      <td>EWR</td>\n",
       "      <td>GSO</td>\n",
       "      <td>79.0</td>\n",
       "      <td>445</td>\n",
       "      <td>20</td>\n",
       "      <td>0</td>\n",
       "      <td>2013-02-11 20:00:00</td>\n",
       "    </tr>\n",
       "    <tr>\n",
       "      <th>299005</th>\n",
       "      <td>2013</td>\n",
       "      <td>8</td>\n",
       "      <td>20</td>\n",
       "      <td>2302.0</td>\n",
       "      <td>2305</td>\n",
       "      <td>-3.0</td>\n",
       "      <td>2400.0</td>\n",
       "      <td>13</td>\n",
       "      <td>-13.0</td>\n",
       "      <td>B6</td>\n",
       "      <td>718</td>\n",
       "      <td>N348JB</td>\n",
       "      <td>JFK</td>\n",
       "      <td>BOS</td>\n",
       "      <td>37.0</td>\n",
       "      <td>187</td>\n",
       "      <td>23</td>\n",
       "      <td>5</td>\n",
       "      <td>2013-08-20 23:00:00</td>\n",
       "    </tr>\n",
       "    <tr>\n",
       "      <th>138872</th>\n",
       "      <td>2013</td>\n",
       "      <td>3</td>\n",
       "      <td>3</td>\n",
       "      <td>2248.0</td>\n",
       "      <td>2251</td>\n",
       "      <td>-3.0</td>\n",
       "      <td>2400.0</td>\n",
       "      <td>2357</td>\n",
       "      <td>3.0</td>\n",
       "      <td>B6</td>\n",
       "      <td>22</td>\n",
       "      <td>N307JB</td>\n",
       "      <td>JFK</td>\n",
       "      <td>SYR</td>\n",
       "      <td>44.0</td>\n",
       "      <td>209</td>\n",
       "      <td>22</td>\n",
       "      <td>51</td>\n",
       "      <td>2013-03-03 22:00:00</td>\n",
       "    </tr>\n",
       "    <tr>\n",
       "      <th>29919</th>\n",
       "      <td>2013</td>\n",
       "      <td>10</td>\n",
       "      <td>3</td>\n",
       "      <td>2210.0</td>\n",
       "      <td>2030</td>\n",
       "      <td>100.0</td>\n",
       "      <td>2400.0</td>\n",
       "      <td>2251</td>\n",
       "      <td>69.0</td>\n",
       "      <td>EV</td>\n",
       "      <td>5209</td>\n",
       "      <td>N709EV</td>\n",
       "      <td>LGA</td>\n",
       "      <td>CHS</td>\n",
       "      <td>86.0</td>\n",
       "      <td>641</td>\n",
       "      <td>20</td>\n",
       "      <td>30</td>\n",
       "      <td>2013-10-03 20:00:00</td>\n",
       "    </tr>\n",
       "  </tbody>\n",
       "</table>\n",
       "<p>336776 rows × 19 columns</p>\n",
       "</div>"
      ],
      "text/plain": [
       "        year  month  day  dep_time  sched_dep_time  dep_delay  arr_time  \\\n",
       "755     2013      1    1    2016.0            1930       46.0       NaN   \n",
       "839     2013      1    1       NaN            1630        NaN       NaN   \n",
       "840     2013      1    1       NaN            1935        NaN       NaN   \n",
       "841     2013      1    1       NaN            1500        NaN       NaN   \n",
       "842     2013      1    1       NaN             600        NaN       NaN   \n",
       "...      ...    ...  ...       ...             ...        ...       ...   \n",
       "64888   2013     11   10    2027.0            2015       12.0    2400.0   \n",
       "120641  2013      2   11    2220.0            2000      140.0    2400.0   \n",
       "299005  2013      8   20    2302.0            2305       -3.0    2400.0   \n",
       "138872  2013      3    3    2248.0            2251       -3.0    2400.0   \n",
       "29919   2013     10    3    2210.0            2030      100.0    2400.0   \n",
       "\n",
       "        sched_arr_time  arr_delay carrier  flight tailnum origin dest  \\\n",
       "755               2220        NaN      EV    4204  N14168    EWR  OKC   \n",
       "839               1815        NaN      EV    4308  N18120    EWR  RDU   \n",
       "840               2240        NaN      AA     791  N3EHAA    LGA  DFW   \n",
       "841               1825        NaN      AA    1925  N3EVAA    LGA  MIA   \n",
       "842                901        NaN      B6     125  N618JB    JFK  FLL   \n",
       "...                ...        ...     ...     ...     ...    ...  ...   \n",
       "64888             2354        6.0      DL     427  N197DN    JFK  LAX   \n",
       "120641            2137      143.0      EV    4106  N13914    EWR  GSO   \n",
       "299005              13      -13.0      B6     718  N348JB    JFK  BOS   \n",
       "138872            2357        3.0      B6      22  N307JB    JFK  SYR   \n",
       "29919             2251       69.0      EV    5209  N709EV    LGA  CHS   \n",
       "\n",
       "        air_time  distance  hour  minute            time_hour  \n",
       "755          NaN      1325    19      30  2013-01-01 19:00:00  \n",
       "839          NaN       416    16      30  2013-01-01 16:00:00  \n",
       "840          NaN      1389    19      35  2013-01-01 19:00:00  \n",
       "841          NaN      1096    15       0  2013-01-01 15:00:00  \n",
       "842          NaN      1069     6       0  2013-01-01 06:00:00  \n",
       "...          ...       ...   ...     ...                  ...  \n",
       "64888      329.0      2475    20      15  2013-11-10 20:00:00  \n",
       "120641      79.0       445    20       0  2013-02-11 20:00:00  \n",
       "299005      37.0       187    23       5  2013-08-20 23:00:00  \n",
       "138872      44.0       209    22      51  2013-03-03 22:00:00  \n",
       "29919       86.0       641    20      30  2013-10-03 20:00:00  \n",
       "\n",
       "[336776 rows x 19 columns]"
      ]
     },
     "execution_count": 11,
     "metadata": {},
     "output_type": "execute_result"
    }
   ],
   "source": [
    "# Solution\n",
    "flights.sort_values(by='arr_time', na_position='first')\n",
    "# Entendí que se refería a un valor, por lo que repetí el arr_time de la preg 6"
   ]
  },
  {
   "cell_type": "markdown",
   "metadata": {},
   "source": [
    "## Add new variables "
   ]
  },
  {
   "cell_type": "markdown",
   "metadata": {},
   "source": [
    "9. Currently `dep_time` and `arr_time` are convenient to look at, but hard to compute with because they’re not really continuous numbers. Convert them to number of minutes since midnight in new vars called `arr_time_min` and `dep_time_min`"
   ]
  },
  {
   "cell_type": "code",
   "execution_count": null,
   "metadata": {},
   "outputs": [],
   "source": [
    "# Solution"
   ]
  },
  {
   "cell_type": "markdown",
   "metadata": {},
   "source": [
    "10. Make a plot to compare `air_time` with `arr_time_min` - `dep_time_min`"
   ]
  },
  {
   "cell_type": "code",
   "execution_count": null,
   "metadata": {},
   "outputs": [],
   "source": [
    "# Solution"
   ]
  },
  {
   "cell_type": "markdown",
   "metadata": {},
   "source": [
    "11. We expect `air_time` and `arr_time_min` - `dep_time_min` to be the same, but they’re not. Why not?\n",
    "Identify a major data issue and subtle one."
   ]
  },
  {
   "cell_type": "code",
   "execution_count": null,
   "metadata": {},
   "outputs": [],
   "source": [
    "# Solution"
   ]
  },
  {
   "cell_type": "markdown",
   "metadata": {},
   "source": [
    "12. Implement your fix to the major probelm. Remake the plot from the previous question."
   ]
  },
  {
   "cell_type": "code",
   "execution_count": null,
   "metadata": {},
   "outputs": [],
   "source": [
    "# Solution"
   ]
  },
  {
   "cell_type": "markdown",
   "metadata": {},
   "source": [
    "13. Find the 10 most delayed flights "
   ]
  },
  {
   "cell_type": "code",
   "execution_count": null,
   "metadata": {},
   "outputs": [],
   "source": [
    "# Solution"
   ]
  },
  {
   "cell_type": "markdown",
   "metadata": {},
   "source": [
    "## Summarizing grouped data"
   ]
  },
  {
   "cell_type": "markdown",
   "metadata": {},
   "source": [
    "14. Calculate average delays by destination for flights originating in NYC. Create a variable which ranks destinations from worst to best, where 1 is the worst rank."
   ]
  },
  {
   "cell_type": "code",
   "execution_count": null,
   "metadata": {},
   "outputs": [],
   "source": [
    "# Solution"
   ]
  },
  {
   "cell_type": "markdown",
   "metadata": {},
   "source": [
    "15. Which plane (`tailnum`) has the most minutes of delays total?"
   ]
  },
  {
   "cell_type": "code",
   "execution_count": null,
   "metadata": {},
   "outputs": [],
   "source": [
    "# Solution"
   ]
  },
  {
   "cell_type": "markdown",
   "metadata": {},
   "source": [
    "16. Which airlines only offer flights from New York to one other airport?"
   ]
  },
  {
   "cell_type": "code",
   "execution_count": null,
   "metadata": {},
   "outputs": [],
   "source": [
    "# Solution"
   ]
  },
  {
   "cell_type": "markdown",
   "metadata": {},
   "source": [
    "17. Calculate the median arrival delay by airline."
   ]
  },
  {
   "cell_type": "code",
   "execution_count": null,
   "metadata": {},
   "outputs": [],
   "source": [
    "# Solution"
   ]
  },
  {
   "cell_type": "markdown",
   "metadata": {},
   "source": [
    "18. ExpressJet has a median arrival delay of -1 minutes while US Airways has a median arrival delay of -6 minutes. Does this tell you that US Airways is a more reliable airline? Why or why not?\n"
   ]
  },
  {
   "cell_type": "code",
   "execution_count": null,
   "metadata": {},
   "outputs": [],
   "source": [
    "# Solution"
   ]
  },
  {
   "cell_type": "markdown",
   "metadata": {},
   "source": [
    "19. Median arrival delay may not be the best metric for our needs. Brainstorm at least 4 additional ways to assess the typical delay characteristics of a group of flights."
   ]
  },
  {
   "cell_type": "code",
   "execution_count": null,
   "metadata": {},
   "outputs": [],
   "source": [
    "# Solution"
   ]
  },
  {
   "cell_type": "markdown",
   "metadata": {},
   "source": [
    "20. Write a code which calculates your delay measures separately by airline. Do particular airlines perform poorly on multiple metrics?"
   ]
  },
  {
   "cell_type": "code",
   "execution_count": null,
   "metadata": {},
   "outputs": [],
   "source": [
    "# Solution"
   ]
  },
  {
   "cell_type": "markdown",
   "metadata": {},
   "source": []
  }
 ],
 "metadata": {
  "hide_input": false,
  "kernelspec": {
   "display_name": "Python 3 (ipykernel)",
   "language": "python",
   "name": "python3"
  },
  "language_info": {
   "codemirror_mode": {
    "name": "ipython",
    "version": 3
   },
   "file_extension": ".py",
   "mimetype": "text/x-python",
   "name": "python",
   "nbconvert_exporter": "python",
   "pygments_lexer": "ipython3",
   "version": "3.11.5"
  },
  "toc": {
   "base_numbering": 1,
   "nav_menu": {},
   "number_sections": true,
   "sideBar": true,
   "skip_h1_title": false,
   "title_cell": "Table of Contents",
   "title_sidebar": "Contents",
   "toc_cell": false,
   "toc_position": {},
   "toc_section_display": true,
   "toc_window_display": false
  }
 },
 "nbformat": 4,
 "nbformat_minor": 4
}
